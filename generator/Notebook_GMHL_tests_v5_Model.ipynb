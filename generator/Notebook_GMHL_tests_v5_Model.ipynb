{
 "cells": [
  {
   "cell_type": "markdown",
   "metadata": {},
   "source": [
    "IMPORTS"
   ]
  },
  {
   "cell_type": "code",
   "execution_count": 2,
   "metadata": {},
   "outputs": [],
   "source": [
    "%matplotlib inline  \n",
    "import os\n",
    "import numpy as np\n",
    "import matplotlib.pyplot as plt\n",
    "from matplotlib import colors\n",
    "from mpl_toolkits.mplot3d import Axes3D\n",
    "\n",
    "from smt.applications import EGO\n",
    "\n",
    "import matplotlib.font_manager\n",
    "\n",
    "import warnings\n",
    "warnings.filterwarnings(\"ignore\")\n",
    "\n",
    "import six\n",
    "import numpy as np\n",
    "from sklearn.metrics import mean_squared_error\n",
    "\n",
    "from types import FunctionType\n",
    "\n",
    "from scipy.stats import norm\n",
    "from scipy.optimize import minimize\n",
    "\n",
    "from smt.utils.options_dictionary import OptionsDictionary\n",
    "from smt.applications.application import SurrogateBasedApplication\n",
    "from smt.utils.misc import compute_rms_error\n",
    "\n",
    "from smt.surrogate_models import KPLS, KRG, KPLSK\n",
    "from smt.sampling_methods import LHS\n",
    "from  case_generator2 import _import_case"
   ]
  },
  {
   "cell_type": "code",
   "execution_count": 3,
   "metadata": {},
   "outputs": [],
   "source": [
    "\n",
    "\n",
    "def optim_surrogate( x_data, y_data,vartype,tunnel):\n",
    "    gpr = KRG(print_global=False)\n",
    "    gpr.set_training_values(x_data, y_data)\n",
    "    gpr.train()\n",
    "    bounds=xlimits\n",
    "    sampling=LHS(xlimits=xlimits, criterion=\"ese\")\n",
    "    def SBO( point,vartype=None):\n",
    "        res = gpr.predict_values(point,vartype)\n",
    "        return res\n",
    "    obj_k = lambda x: SBO(np.atleast_2d(x), vartype)\n",
    "    \n",
    "    n_start=150\n",
    "    n_max_optim=40   \n",
    "    success = False\n",
    "    n_optim = 1  # in order to have some success optimizations with SLSQP\n",
    "    while not success and n_optim <= n_max_optim:\n",
    "        opt_all = []\n",
    "        x_start = sampling(n_start)\n",
    "        for ii in range(n_start):\n",
    "            opt_all.append(minimize(obj_k,x_start[ii, :],method=\"SLSQP\",bounds=bounds,options={\"maxiter\": 200}))\n",
    "        opt_all = np.asarray(opt_all)\n",
    "        opt_success = opt_all[[opt_i[\"success\"] for opt_i in opt_all]]\n",
    "        obj_success = np.array([opt_i[\"fun\"] for opt_i in opt_success])\n",
    "        success = obj_success.size != 0\n",
    "        if not success:\n",
    "            self.log(\"New start point for the internal optimization\")\n",
    "            n_optim += 1\n",
    "\n",
    "    if n_optim >= n_max_optim:\n",
    "        # self.log(\"Internal optimization failed at EGO iter = {}\".format(k))\n",
    "        return np.atleast_2d(0), False\n",
    "    ind_min = np.argmin(obj_success)\n",
    "    opt = opt_success[ind_min]\n",
    "    x_et_k = np.atleast_2d(opt[\"x\"])\n",
    "    y_approx= opt[\"fun\"]\n",
    "    gpr._project_values(x_et_k,vartype)\n",
    "    y_real=f(x_et_k)\n",
    "    return y_real,y_approx;"
   ]
  },
  {
   "cell_type": "code",
   "execution_count": 4,
   "metadata": {},
   "outputs": [],
   "source": [
    "suffix_xdoe = '_xdoe.npy'\n",
    "suffix_ydoe = '_ydoe.npy'\n",
    "suffix_xval = '_xval.npy'\n",
    "suffix_yvaltrue = '_yvaltrue.npy'\n",
    "suffix_yvalest = '_yvalestimated.npy'"
   ]
  },
  {
   "cell_type": "code",
   "execution_count": 5,
   "metadata": {},
   "outputs": [],
   "source": [
    "namefun=['Branin_5','Set_1','Set_2','Wong1','Branin_1','Branin_2','Goldstein_1','Cos_1','Spiral','EVD52','Rosen-Suzuki']\n"
   ]
  },
  {
   "cell_type": "code",
   "execution_count": 6,
   "metadata": {
    "scrolled": false
   },
   "outputs": [
    {
     "name": "stdout",
     "output_type": "stream",
     "text": [
      "30\n",
      "50\n",
      "100\n",
      "200\n",
      "300\n",
      "exception :  112-th leading minor of the array is not positive definite\n",
      "exception :  191-th leading minor of the array is not positive definite\n"
     ]
    },
    {
     "data": {
      "image/png": "[encoded data removed]",
      "text/plain": [
       "<Figure size 432x288 with 1 Axes>"
      ]
     },
     "metadata": {
      "needs_background": "light"
     },
     "output_type": "display_data"
    },
    {
     "data": {
      "image/png": "[encoded data removed]",
      "text/plain": [
       "<Figure size 432x288 with 1 Axes>"
      ]
     },
     "metadata": {
      "needs_background": "light"
     },
     "output_type": "display_data"
    }
   ],
   "source": [
    "for base_save in namefun:\n",
    "    dir_name='./results/'+base_save+\"/\"\n",
    "    case=_import_case(base_save)()\n",
    "    sol = case['sol']['value']\n",
    "    xlimits = case['vars']['bounds']\n",
    "    vartype=case['vars']['vartype']\n",
    "    f=case['f_obj']\n",
    "\n",
    "\n",
    "    nb_doe=20\n",
    "    RMSE=np.zeros((5,nb_doe))\n",
    "    SBO_r=np.zeros((5,nb_doe))\n",
    "    ind=0\n",
    "\n",
    "    for DOE in [30,50,100,200,300]:\n",
    "        n_doe=DOE\n",
    "        print(DOE)\n",
    "        for k in range(nb_doe) :\n",
    "            filename= os.path.join(dir_name, base_save+\"_\"+  str(k)  +\"_modval_DOE\" +str(DOE)+suffix_yvaltrue)\n",
    "            yvaltrue=np.load(filename)\n",
    "            filename= os.path.join(dir_name, base_save+\"_\"+  str(k)  +\"_modval_DOE\" +str(DOE)+suffix_yvalest)\n",
    "            yvaltest=np.load(filename)\n",
    "            filename= os.path.join(dir_name, base_save+\"_\" + str(k) +\"_modval_DOE\" +str(DOE)+ suffix_xdoe)\n",
    "            x_doe=np.load(filename) \n",
    "            filename= os.path.join(dir_name, base_save+\"_\"+  str(k)  +\"_modval_DOE\" +str(DOE)+ suffix_ydoe)\n",
    "            y_doe=np.load(filename) \n",
    "            RMSE[ind,k]=mean_squared_error(yvaltrue ,yvaltest,squared=False)\n",
    "            sbo_i=optim_surrogate(x_data=x_doe, y_data=y_doe,vartype=vartype,tunnel=0)   \n",
    "            SBO_r[ind,k]=(sbo_i[0])\n",
    "        ind= ind+1       \n",
    "\n",
    "\n",
    "    plt.figure()\n",
    "    plt.boxplot(RMSE.T, labels=[\"30\",\"50\",\"100\",\"200\",\"300\"])\n",
    "    plt.title(\"RMSE for {ndoe} runs of {func} surrogate\".format(func=base_save,ndoe=nb_doe), loc='center')\n",
    "\n",
    "    plt.ylabel(\"RMSE \")\n",
    "    plt.xlabel(\"DOE sixe \")\n",
    "\n",
    "    plt.savefig(\"./results/\"+base_save+\"/RMSE\",dpi=300,quality=99)\n",
    "    plt.show()\n",
    "    nb_pt_plot=100\n",
    "\n",
    "    cst= np.linspace(sol,sol, nb_pt_plot)\n",
    "\n",
    "    plt.figure()\n",
    "    plt.boxplot(SBO_r.T, labels=[\"30\",\"50\",\"100\",\"200\",\"300\"])\n",
    "    plt.title(\"{ndoe} offline {func} surrogate estimated minimima\".format(func=base_save,ndoe=nb_doe), loc='center')\n",
    "    plt.plot(np.linspace(1,5,nb_pt_plot),cst, linestyle='--')\n",
    "    plt.ylabel(\"Estimated minimum\")\n",
    "    plt.xlabel(\"DOE sixe \")\n",
    "    plt.savefig(\"./results/\"+base_save+\"/surogate minima \",dpi=300,quality=99)\n",
    "    plt.show()"
   ]
  },
  {
   "cell_type": "code",
   "execution_count": null,
   "metadata": {},
   "outputs": [],
   "source": []
  },
  {
   "cell_type": "code",
   "execution_count": null,
   "metadata": {},
   "outputs": [],
   "source": []
  }
 ],
 "metadata": {
  "kernelspec": {
   "display_name": "Python 3",
   "language": "python",
   "name": "python3"
  },
  "language_info": {
   "codemirror_mode": {
    "name": "ipython",
    "version": 3
   },
   "file_extension": ".py",
   "mimetype": "text/x-python",
   "name": "python",
   "nbconvert_exporter": "python",
   "pygments_lexer": "ipython3",
   "version": "3.7.3"
  }
 },
 "nbformat": 4,
 "nbformat_minor": 2
}
