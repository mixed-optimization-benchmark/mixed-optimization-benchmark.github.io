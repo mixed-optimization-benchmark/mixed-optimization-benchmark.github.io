{
 "cells": [
  {
   "cell_type": "markdown",
   "metadata": {},
   "source": [
    "IMPORTS"
   ]
  },
  {
   "cell_type": "code",
   "execution_count": 1,
   "metadata": {},
   "outputs": [
    {
     "name": "stderr",
     "output_type": "stream",
     "text": [
      "c:\\users\\paul\\anaconda3\\lib\\site-packages\\numpy\\_distributor_init.py:32: UserWarning: loaded more than 1 DLL from .libs:\n",
      "c:\\users\\paul\\anaconda3\\lib\\site-packages\\numpy\\.libs\\libopenblas.NOIJJG62EMASZI6NYURL6JBKM4EVBGM7.gfortran-win_amd64.dll\n",
      "c:\\users\\paul\\anaconda3\\lib\\site-packages\\numpy\\.libs\\libopenblas.TXA6YQSD3GCQQC22GEQ54J2UDCXDXHWN.gfortran-win_amd64.dll\n",
      "  stacklevel=1)\n"
     ]
    }
   ],
   "source": [
    "%matplotlib inline  \n",
    "import os\n",
    "import numpy as np\n",
    "import matplotlib.pyplot as plt\n",
    "from smt.applications import EGO\n",
    "\n",
    "import matplotlib.font_manager\n",
    "\n",
    "import warnings\n",
    "warnings.filterwarnings(\"ignore\")\n",
    "     \n",
    "from scipy.stats import norm\n",
    "from scipy.optimize import minimize\n",
    "\n",
    "from smt.utils.options_dictionary import OptionsDictionary\n",
    "from smt.applications.application import SurrogateBasedApplication\n",
    "from smt.utils.misc import compute_rms_error\n",
    "\n",
    "from smt.surrogate_models import KPLS, KRG, KPLSK\n",
    "from smt.sampling_methods import LHS\n",
    "from  case_generator2 import _import_case\n"
   ]
  },
  {
   "cell_type": "code",
   "execution_count": 2,
   "metadata": {},
   "outputs": [],
   "source": [
    "namefun=['Branin_5','Set_1','Set_2','Wong1','Branin_1','Branin_2','Goldstein_1','Cos_1','Spiral','EVD52','Rosen-Suzuki']\n",
    "suffix_xsave = '_xsave.npy'\n",
    "suffix_ysave = '_ysave.npy'"
   ]
  },
  {
   "cell_type": "code",
   "execution_count": 3,
   "metadata": {
    "scrolled": false
   },
   "outputs": [
    {
     "ename": "FileNotFoundError",
     "evalue": "[Errno 2] No such file or directory: './results/Branin_5/Branin_5_0_optim_ysave.npy'",
     "output_type": "error",
     "traceback": [
      "\u001b[1;31m---------------------------------------------------------------------------\u001b[0m",
      "\u001b[1;31mFileNotFoundError\u001b[0m                         Traceback (most recent call last)",
      "\u001b[1;32m<ipython-input-3-f06161af2507>\u001b[0m in \u001b[0;36m<module>\u001b[1;34m\u001b[0m\n\u001b[0;32m     17\u001b[0m     \u001b[1;32mfor\u001b[0m \u001b[0mk\u001b[0m \u001b[1;32min\u001b[0m \u001b[0mrange\u001b[0m\u001b[1;33m(\u001b[0m\u001b[0mn_optim\u001b[0m\u001b[1;33m)\u001b[0m\u001b[1;33m:\u001b[0m\u001b[1;33m\u001b[0m\u001b[1;33m\u001b[0m\u001b[0m\n\u001b[0;32m     18\u001b[0m         \u001b[0mfilename\u001b[0m\u001b[1;33m=\u001b[0m \u001b[0mos\u001b[0m\u001b[1;33m.\u001b[0m\u001b[0mpath\u001b[0m\u001b[1;33m.\u001b[0m\u001b[0mjoin\u001b[0m\u001b[1;33m(\u001b[0m\u001b[0mdir_name\u001b[0m\u001b[1;33m,\u001b[0m \u001b[0mbase_save\u001b[0m\u001b[1;33m+\u001b[0m\u001b[1;34m\"_\"\u001b[0m\u001b[1;33m+\u001b[0m\u001b[0mstr\u001b[0m\u001b[1;33m(\u001b[0m\u001b[0mk\u001b[0m\u001b[1;33m)\u001b[0m \u001b[1;33m+\u001b[0m\u001b[1;34m\"_optim\"\u001b[0m\u001b[1;33m+\u001b[0m  \u001b[0msuffix_ysave\u001b[0m\u001b[1;33m)\u001b[0m\u001b[1;33m\u001b[0m\u001b[1;33m\u001b[0m\u001b[0m\n\u001b[1;32m---> 19\u001b[1;33m         \u001b[0myl\u001b[0m\u001b[1;33m=\u001b[0m\u001b[0mnp\u001b[0m\u001b[1;33m.\u001b[0m\u001b[0mload\u001b[0m\u001b[1;33m(\u001b[0m\u001b[0mfilename\u001b[0m\u001b[1;33m)\u001b[0m\u001b[1;33m\u001b[0m\u001b[1;33m\u001b[0m\u001b[0m\n\u001b[0m\u001b[0;32m     20\u001b[0m         \u001b[0my_data\u001b[0m\u001b[1;33m[\u001b[0m\u001b[0mk\u001b[0m\u001b[1;33m,\u001b[0m\u001b[1;33m:\u001b[0m\u001b[1;33m]\u001b[0m\u001b[1;33m=\u001b[0m\u001b[0myl\u001b[0m\u001b[1;33m.\u001b[0m\u001b[0mT\u001b[0m\u001b[1;33m[\u001b[0m\u001b[1;36m0\u001b[0m\u001b[1;33m]\u001b[0m\u001b[1;33m\u001b[0m\u001b[1;33m\u001b[0m\u001b[0m\n\u001b[0;32m     21\u001b[0m         \u001b[1;32mfor\u001b[0m \u001b[0mi\u001b[0m \u001b[1;32min\u001b[0m \u001b[0mrange\u001b[0m\u001b[1;33m(\u001b[0m\u001b[0mn_iter\u001b[0m\u001b[1;33m)\u001b[0m \u001b[1;33m:\u001b[0m\u001b[1;33m\u001b[0m\u001b[1;33m\u001b[0m\u001b[0m\n",
      "\u001b[1;32mc:\\users\\paul\\anaconda3\\lib\\site-packages\\numpy\\lib\\npyio.py\u001b[0m in \u001b[0;36mload\u001b[1;34m(file, mmap_mode, allow_pickle, fix_imports, encoding)\u001b[0m\n\u001b[0;32m    414\u001b[0m             \u001b[0mown_fid\u001b[0m \u001b[1;33m=\u001b[0m \u001b[1;32mFalse\u001b[0m\u001b[1;33m\u001b[0m\u001b[1;33m\u001b[0m\u001b[0m\n\u001b[0;32m    415\u001b[0m         \u001b[1;32melse\u001b[0m\u001b[1;33m:\u001b[0m\u001b[1;33m\u001b[0m\u001b[1;33m\u001b[0m\u001b[0m\n\u001b[1;32m--> 416\u001b[1;33m             \u001b[0mfid\u001b[0m \u001b[1;33m=\u001b[0m \u001b[0mstack\u001b[0m\u001b[1;33m.\u001b[0m\u001b[0menter_context\u001b[0m\u001b[1;33m(\u001b[0m\u001b[0mopen\u001b[0m\u001b[1;33m(\u001b[0m\u001b[0mos_fspath\u001b[0m\u001b[1;33m(\u001b[0m\u001b[0mfile\u001b[0m\u001b[1;33m)\u001b[0m\u001b[1;33m,\u001b[0m \u001b[1;34m\"rb\"\u001b[0m\u001b[1;33m)\u001b[0m\u001b[1;33m)\u001b[0m\u001b[1;33m\u001b[0m\u001b[1;33m\u001b[0m\u001b[0m\n\u001b[0m\u001b[0;32m    417\u001b[0m             \u001b[0mown_fid\u001b[0m \u001b[1;33m=\u001b[0m \u001b[1;32mTrue\u001b[0m\u001b[1;33m\u001b[0m\u001b[1;33m\u001b[0m\u001b[0m\n\u001b[0;32m    418\u001b[0m \u001b[1;33m\u001b[0m\u001b[0m\n",
      "\u001b[1;31mFileNotFoundError\u001b[0m: [Errno 2] No such file or directory: './results/Branin_5/Branin_5_0_optim_ysave.npy'"
     ]
    }
   ],
   "source": [
    "n_optim=20\n",
    "n_doe=5\n",
    "n_iter=50\n",
    "p=[]\n",
    "nb_pt_plot=10*n_iter\n",
    "for base_save in namefun:\n",
    "    converge=0\n",
    "    \n",
    "    dir_name='./results/'+base_save+\"/\"\n",
    "   \n",
    "    case=_import_case(base_save)()\n",
    "    sol = case['sol']['value']\n",
    "    \n",
    "    \n",
    "    y_data=np.zeros((n_optim,n_iter+n_doe))\n",
    "    mini=np.zeros((n_optim,n_iter))\n",
    "    for k in range(n_optim):\n",
    "        filename= os.path.join(dir_name, base_save+\"_\"+str(k) +\"_optim\"+  suffix_ysave)\n",
    "        yl=np.load(filename) \n",
    "        y_data[k,:]=yl.T[0]\n",
    "        for i in range(n_iter) : \n",
    "            mini[k,i]=(np.min(yl[0:n_doe+i+1]))\n",
    "    print        \n",
    "    Moy_mini=mini.sum(axis=0)/n_optim\n",
    "    y_opt=mini[:,-1]\n",
    "\n",
    "    x_plot = np.linspace(1,n_iter+0.5, nb_pt_plot)\n",
    "    y_plot_min=np.copy(x_plot)\n",
    "    cst= np.linspace(sol,sol, nb_pt_plot)\n",
    "    for i in range(nb_pt_plot) :\n",
    "        y_plot_min[i]=np.log(np.abs(Moy_mini[int(np.floor(x_plot[i]))-1]-sol))\n",
    "        if (y_plot_min[i] < -2 and not(converge)) : \n",
    "            converge=1 \n",
    "            p.append(int(np.floor(x_plot[i])))\n",
    "\n",
    "    if not(converge) :\n",
    "        p.append(n_iter+1)\n",
    "        \n",
    "    u= max(np.floor(max(y_plot_min))+1,-100)\n",
    "    l= max(np.floor(min(y_plot_min))-.2,-1000)\n",
    "    fig= plt.figure()\n",
    "    axes = fig.add_axes([0.1,0.1,0.8,0.8])\n",
    "    epm, = axes.plot(x_plot,y_plot_min,color='r')\n",
    "    axes.set_ylim([l,u])\n",
    "    plt.title(\"{func} minimum convergence plot ({nopt} runs average)\".format(func=base_save, nopt=n_optim), loc='center')\n",
    "    plt.xlabel(\"number of iterations\")\n",
    "    plt.ylabel(\"log of the difference w.r.t the best\")\n",
    "\n",
    "    plt.savefig(\"./results/\"+base_save+\"/minimum convergence plot\",dpi=300,quality=99)\n",
    "      \n",
    "    \n",
    "    plt.show()\n",
    "    plt.figure()\n",
    "    plt.boxplot(y_opt)\n",
    "    plt.title(\" {nopt} minima of {func} after {niter} iterations\".format(func=base_save, nopt=n_optim, niter=n_iter), loc='center')\n",
    "    plt.plot(np.linspace(0.5,1.5,nb_pt_plot),cst,color='g',linestyle='--')\n",
    "    plt.ylabel(\"minimal values \")\n",
    "    plt.savefig(\"./results/\"+base_save+\"/minima after optim\",dpi=300,quality=99)\n",
    "    plt.show()\n",
    "    print(np.min(y_opt))\n",
    "\n",
    "p=np.array(p)\n",
    "print(p)\n",
    "for i in range(nb_pt_plot) :\n",
    "    y_plot_min[i]=np.count_nonzero( ( p<=(int(np.floor(x_plot[i]))) )  )/np.shape(p)[0]\n",
    "\n",
    "fig= plt.figure()\n",
    "axes = fig.add_axes([0.1,0.1,0.8,0.8])\n",
    "epm, = axes.plot(x_plot,y_plot_min,color='b')\n",
    "\n",
    "plt.title(\"Convergence plot ({nopt} runs average of the 11 tests cases)\".format(func=base_save, nopt=n_optim), loc='center')\n",
    "plt.xlabel(\"number of iterations\")\n",
    "plt.ylabel(\"Percentage of problems converged\")\n",
    "\n",
    "plt.savefig(\"./results/overall problems convergence plot\",dpi=300,quality=99)\n",
    "\n",
    "plt.show()\n",
    "\n"
   ]
  },
  {
   "cell_type": "code",
   "execution_count": null,
   "metadata": {},
   "outputs": [],
   "source": []
  }
 ],
 "metadata": {
  "kernelspec": {
   "display_name": "Python 3",
   "language": "python",
   "name": "python3"
  },
  "language_info": {
   "codemirror_mode": {
    "name": "ipython",
    "version": 3
   },
   "file_extension": ".py",
   "mimetype": "text/x-python",
   "name": "python",
   "nbconvert_exporter": "python",
   "pygments_lexer": "ipython3",
   "version": "3.7.3"
  }
 },
 "nbformat": 4,
 "nbformat_minor": 2
}
